{
 "cells": [
  {
   "cell_type": "markdown",
   "metadata": {},
   "source": [
    "Advanced Concepts in OpenCV"
   ]
  },
  {
   "cell_type": "markdown",
   "metadata": {},
   "source": [
    "1. ColorSpaces (RGB, greyScale, etc.)"
   ]
  },
  {
   "cell_type": "code",
   "execution_count": 1,
   "metadata": {},
   "outputs": [],
   "source": [
    "import cv2 as cv\n",
    "import numpy as np\n",
    "import matplotlib.pyplot as plt \n",
    "\n",
    "img = cv.imread(\"photos/ryuga.jpg\")"
   ]
  },
  {
   "cell_type": "code",
   "execution_count": 2,
   "metadata": {},
   "outputs": [],
   "source": [
    "gray = cv.cvtColor(img, cv.COLOR_BGR2GRAY)\n",
    "\n",
    "cv.imshow(\"gray\", gray)\n",
    "cv.imshow(\"ryuga\", img)\n",
    "\n",
    "#From BGR to HSV\n",
    "#HSV is closer to how humans perceive color. It has three components: hue, saturation, and value.\n",
    "\n",
    "hsv = cv.cvtColor(img, cv.COLOR_BGR2HSV)\n",
    "\n",
    "cv.imshow(\"hsv\", hsv)\n",
    "\n",
    "#BGR to lab\n",
    "# L*: Lightness. a*: Red/Green Value. b*: Blue/Yellow Value.\n",
    "lab = cv.cvtColor(img, cv.COLOR_BGR2LAB)\n",
    "cv.imshow(\"lab\", lab)\n",
    "\n",
    "#cv percieves it as bgr but matplotlib percieves it as rgb, here we must convert bgr to rgb \n",
    "\n",
    "cv.waitKey(0)"
   ]
  },
  {
   "cell_type": "markdown",
   "metadata": {},
   "source": [
    "2. Color Channels "
   ]
  },
  {
   "cell_type": "code",
   "execution_count": 3,
   "metadata": {},
   "outputs": [
    {
     "name": "stdout",
     "output_type": "stream",
     "text": [
      "(281, 500, 3)\n",
      "(281, 500)\n",
      "(281, 500)\n",
      "(281, 500)\n"
     ]
    },
    {
     "data": {
      "text/plain": [
       "-1"
      ]
     },
     "execution_count": 3,
     "metadata": {},
     "output_type": "execute_result"
    }
   ],
   "source": [
    "#openCV allows you to split an image into respective color channels\n",
    "\n",
    "b,g,r = cv.split(img)\n",
    "\n",
    "cv.imshow('blu', b)\n",
    "cv.imshow('green', g)\n",
    "cv.imshow('red', r)\n",
    "\n",
    "#img is shown in gray scale, here the brighter part of the img represents conceptration of that certain color\n",
    "\n",
    "print(img.shape)\n",
    "print(b.shape)\n",
    "print(g.shape)\n",
    "print(r.shape)\n",
    "\n",
    "merged = cv.merge([b,g,r])\n",
    "cv.imshow('merger', merged)\n",
    "\n",
    "cv.waitKey(0)"
   ]
  },
  {
   "cell_type": "code",
   "execution_count": 5,
   "metadata": {},
   "outputs": [
    {
     "data": {
      "text/plain": [
       "-1"
      ]
     },
     "execution_count": 5,
     "metadata": {},
     "output_type": "execute_result"
    }
   ],
   "source": [
    "#To be able to visualise the concentrations of BGR, we can merge them with black \n",
    "\n",
    "blank = np.zeros(img.shape[:2], dtype='uint8')\n",
    "\n",
    "blue = cv.merge([b, blank, blank])\n",
    "green = cv.merge([blank, g, blank])\n",
    "red = cv.merge([blank, blank, r])\n",
    "\n",
    "cv.imshow('r', red)\n",
    "cv.imshow('g', green)\n",
    "cv.imshow('b', blue)\n",
    "\n",
    "cv.waitKey(0)"
   ]
  },
  {
   "cell_type": "markdown",
   "metadata": {},
   "source": [
    "3. Blurring Techniques"
   ]
  },
  {
   "cell_type": "code",
   "execution_count": 22,
   "metadata": {},
   "outputs": [
    {
     "data": {
      "text/plain": [
       "-1"
      ]
     },
     "execution_count": 22,
     "metadata": {},
     "output_type": "execute_result"
    }
   ],
   "source": [
    "#averaging ---------------------\n",
    "\n",
    "average = cv.blur(img, (7,7))\n",
    "#the 2nd argument is the kernel size over which we average the center pixel\n",
    "\n",
    "cv.imshow(\"average blur\", average)\n",
    "\n",
    "cv.waitKey(0)"
   ]
  },
  {
   "cell_type": "markdown",
   "metadata": {},
   "source": [
    "Gaussian Blur\n",
    "\n",
    "Instead of computing the average of all of the surrounding pixel intensity, each surrounding pixel is given a particular weight and the average of the products of those weights give you the value of the true center "
   ]
  },
  {
   "cell_type": "code",
   "execution_count": 21,
   "metadata": {},
   "outputs": [
    {
     "data": {
      "text/plain": [
       "-1"
      ]
     },
     "execution_count": 21,
     "metadata": {},
     "output_type": "execute_result"
    }
   ],
   "source": [
    "gaus = cv.GaussianBlur(img, (7,7), 0)\n",
    "#kernel dim must be odd\n",
    "\n",
    "cv.imshow('Gaussian Blurr', gaus)\n",
    "\n",
    "cv.waitKey(0)"
   ]
  },
  {
   "cell_type": "markdown",
   "metadata": {},
   "source": [
    "Median Blur\n",
    "\n",
    "Same as avg, instead of avg, it calculates the median of the surr pixels.\n",
    "\n",
    "More effective in reducing noise in the img as compared to avg and gaussian blur."
   ]
  },
  {
   "cell_type": "code",
   "execution_count": 25,
   "metadata": {},
   "outputs": [
    {
     "data": {
      "text/plain": [
       "-1"
      ]
     },
     "execution_count": 25,
     "metadata": {},
     "output_type": "execute_result"
    }
   ],
   "source": [
    "median = cv.medianBlur(img, 3)\n",
    "\n",
    "cv.imshow(\"median\",median)\n",
    "\n",
    "cv.waitKey(0)"
   ]
  },
  {
   "cell_type": "markdown",
   "metadata": {},
   "source": [
    "BiLateral Blurring (most effective)\n",
    "\n",
    "It applies blurring but also retains the edges of the img"
   ]
  },
  {
   "cell_type": "code",
   "execution_count": 32,
   "metadata": {},
   "outputs": [
    {
     "data": {
      "text/plain": [
       "-1"
      ]
     },
     "execution_count": 32,
     "metadata": {},
     "output_type": "execute_result"
    }
   ],
   "source": [
    "biL = cv.bilateralFilter(img, 7, 20, 20)\n",
    "cv.imshow('biLateral', biL)\n",
    "\n",
    "cv.waitKey(0)"
   ]
  },
  {
   "cell_type": "markdown",
   "metadata": {},
   "source": [
    "4. BITWISE Operations"
   ]
  },
  {
   "cell_type": "code",
   "execution_count": 38,
   "metadata": {},
   "outputs": [
    {
     "data": {
      "text/plain": [
       "-1"
      ]
     },
     "execution_count": 38,
     "metadata": {},
     "output_type": "execute_result"
    }
   ],
   "source": [
    "blank = np.zeros((400, 400), dtype='uint8')\n",
    "\n",
    "rectangle = cv.rectangle(blank.copy(), (30, 30), (370, 370), 255, -1)\n",
    "circle = cv.circle(blank.copy(), (200, 200), 200, 255, -1)\n",
    "\n",
    "cv.imshow('rect', rectangle)\n",
    "cv.imshow('circle', circle)\n",
    "\n",
    "#BITWISE AND\n",
    "\n",
    "b_and = cv.bitwise_and(rectangle, circle)\n",
    "cv.imshow('and', b_and)\n",
    "\n",
    "#BITWISE OR\n",
    "\n",
    "b_or = cv.bitwise_or(rectangle,circle)\n",
    "cv.imshow('or', b_or)\n",
    "\n",
    "#BITWISE XOR\n",
    "\n",
    "b_xor = cv.bitwise_xor(rectangle, circle)\n",
    "cv.imshow('xor', b_xor)\n",
    "\n",
    "#BITWISE NOT\n",
    "\n",
    "b_not = cv.bitwise_not( circle)\n",
    "cv.imshow('not', b_not)\n",
    "\n",
    "cv.waitKey(0)"
   ]
  },
  {
   "cell_type": "markdown",
   "metadata": {},
   "source": [
    "5. Masking"
   ]
  },
  {
   "cell_type": "code",
   "execution_count": 9,
   "metadata": {},
   "outputs": [
    {
     "data": {
      "text/plain": [
       "-1"
      ]
     },
     "execution_count": 9,
     "metadata": {},
     "output_type": "execute_result"
    }
   ],
   "source": [
    "blank=np.zeros(img.shape[:2], dtype='uint8')\n",
    "\n",
    "mask = cv.circle(blank, (img.shape[1]//2 + 90, img.shape[0]//2 -50), 100, 255, -1)\n",
    "cv.imshow('mask', mask)\n",
    "\n",
    "masked = cv.bitwise_and(img, img, mask=mask)\n",
    "cv.imshow('masked', masked)\n",
    "\n",
    "cv.waitKey(0)"
   ]
  },
  {
   "cell_type": "markdown",
   "metadata": {},
   "source": [
    "6. Computing Histograms"
   ]
  },
  {
   "cell_type": "markdown",
   "metadata": {},
   "source": [
    "It allows you to visualise the distribution of pixel intensities in an image with the help of a histogram."
   ]
  },
  {
   "cell_type": "code",
   "execution_count": 2,
   "metadata": {},
   "outputs": [
    {
     "data": {
      "image/png": "[encoded data removed]",
      "text/plain": [
       "<Figure size 432x288 with 1 Axes>"
      ]
     },
     "metadata": {
      "needs_background": "light"
     },
     "output_type": "display_data"
    },
    {
     "data": {
      "text/plain": [
       "-1"
      ]
     },
     "execution_count": 2,
     "metadata": {},
     "output_type": "execute_result"
    }
   ],
   "source": [
    "gray = cv.cvtColor(img, cv.COLOR_BGR2GRAY)\n",
    "cv.imshow('gray', gray)\n",
    "\n",
    "gray_hist = cv.calcHist([gray], [0], None, [256], [0,256])\n",
    "#(list of images, list of channels, mask, no of bins while plotting, range of all possible pixel values)\n",
    "\n",
    "plt.figure()\n",
    "plt.title('Gray Histogram')\n",
    "plt.xlabel('bins')\n",
    "plt.ylabel('no of pixels')\n",
    "plt.plot(gray_hist)\n",
    "plt.xlim([0,256])\n",
    "plt.show()\n",
    "\n",
    "cv.waitKey(0)"
   ]
  },
  {
   "cell_type": "markdown",
   "metadata": {},
   "source": [
    "We may mask an image and get it's specific histogram"
   ]
  },
  {
   "cell_type": "code",
   "execution_count": 11,
   "metadata": {},
   "outputs": [
    {
     "data": {
      "image/png": "[encoded data removed]",
      "text/plain": [
       "<Figure size 432x288 with 1 Axes>"
      ]
     },
     "metadata": {
      "needs_background": "light"
     },
     "output_type": "display_data"
    },
    {
     "data": {
      "text/plain": [
       "-1"
      ]
     },
     "execution_count": 11,
     "metadata": {},
     "output_type": "execute_result"
    }
   ],
   "source": [
    "blank=np.zeros(img.shape[:2], dtype='uint8')\n",
    "circled = cv.circle(blank, (img.shape[1]//2 + 90, img.shape[0]//2 -50), 100, 255, -1)\n",
    "mask = cv.bitwise_and(gray, gray, mask=circled)\n",
    "\n",
    "gray_hist2 = cv.calcHist([gray], [0], mask, [256], [0,256])\n",
    "#(list of images, list of channels, mask, no of bins while plotting, range of all possible pixel values)\n",
    "\n",
    "cv.imshow('masked', mask)\n",
    "\n",
    "plt.figure()\n",
    "plt.title('Gray Histogram')\n",
    "plt.xlabel('bins')\n",
    "plt.ylabel('no of pixels')\n",
    "plt.plot(gray_hist2)\n",
    "plt.xlim([0,256])\n",
    "plt.show()\n",
    "\n",
    "cv.waitKey(0)"
   ]
  },
  {
   "cell_type": "code",
   "execution_count": 14,
   "metadata": {},
   "outputs": [
    {
     "data": {
      "image/png": "[encoded data removed]",
      "text/plain": [
       "<Figure size 432x288 with 1 Axes>"
      ]
     },
     "metadata": {
      "needs_background": "light"
     },
     "output_type": "display_data"
    },
    {
     "data": {
      "text/plain": [
       "-1"
      ]
     },
     "execution_count": 14,
     "metadata": {},
     "output_type": "execute_result"
    }
   ],
   "source": [
    "#COLOR Histogram\n",
    "\n",
    "plt.figure()\n",
    "plt.title('Color Histogram')\n",
    "plt.xlabel('bins')\n",
    "plt.ylabel('no of pixels')\n",
    "\n",
    "colors = ('b', 'g', 'r')\n",
    "for i,col in enumerate(colors):\n",
    "    hist = cv.calcHist([img], [i], None, [256], [0,256])\n",
    "    plt.plot(hist, color = col)\n",
    "    plt.xlim([0,256])\n",
    "    \n",
    "    \n",
    "plt.show()\n",
    "\n",
    "cv.waitKey(0)"
   ]
  },
  {
   "cell_type": "markdown",
   "metadata": {},
   "source": [
    "7. Thresholding"
   ]
  },
  {
   "cell_type": "markdown",
   "metadata": {},
   "source": [
    "Thresholding is basically binarizing an image. For a certain threshold value, pixels above it may be termed as 0 -> black and below it may be termed as 255 -> white.\n",
    "\n",
    "There are 2 types: 1. Simple 2. Adaptive"
   ]
  },
  {
   "cell_type": "code",
   "execution_count": 26,
   "metadata": {},
   "outputs": [
    {
     "data": {
      "text/plain": [
       "-1"
      ]
     },
     "execution_count": 26,
     "metadata": {},
     "output_type": "execute_result"
    }
   ],
   "source": [
    "greyy = cv.cvtColor(img, cv.COLOR_BGR2GRAY) \n",
    "\n",
    "#Simple thresholding\n",
    "threshold, thresh = cv.threshold(greyy, 150, 255, cv.THRESH_BINARY)\n",
    "cv.imshow('simple threshold', thresh)\n",
    "\n",
    "threshold2, thresh_inv = cv.threshold(greyy, 150, 255, cv.THRESH_BINARY_INV)\n",
    "cv.imshow('simple threshold 2', thresh_inv)\n",
    "\n",
    "cv.waitKey(0)"
   ]
  },
  {
   "cell_type": "code",
   "execution_count": 30,
   "metadata": {},
   "outputs": [
    {
     "data": {
      "text/plain": [
       "-1"
      ]
     },
     "execution_count": 30,
     "metadata": {},
     "output_type": "execute_result"
    }
   ],
   "source": [
    "#Adaptive thresholding\n",
    "\n",
    "adaptive = cv.adaptiveThreshold(greyy, 255, cv.ADAPTIVE_THRESH_MEAN_C, cv.THRESH_BINARY, 11, 1)\n",
    "cv.imshow('adaptive', adaptive)\n",
    "\n",
    "cv.waitKey(0)"
   ]
  },
  {
   "cell_type": "markdown",
   "metadata": {},
   "source": [
    "8. Edge Detection"
   ]
  },
  {
   "cell_type": "code",
   "execution_count": 36,
   "metadata": {},
   "outputs": [
    {
     "data": {
      "text/plain": [
       "-1"
      ]
     },
     "execution_count": 36,
     "metadata": {},
     "output_type": "execute_result"
    }
   ],
   "source": [
    "#LAPLACIAN\n",
    "\n",
    "grayy = cv.cvtColor(img, cv.COLOR_BGR2GRAY)\n",
    "\n",
    "lap = cv.Laplacian(grayy, cv.CV_64F)\n",
    "lap = np.uint8(np.absolute(lap))\n",
    "\n",
    "cv.imshow('lap', lap)\n",
    "\n",
    "#Sobel\n",
    "sobelx = cv.Sobel(grayy, cv.CV_64F, 1,0)\n",
    "sobely = cv.Sobel(grayy, cv.CV_64F, 0,1)\n",
    "combined = cv.bitwise_or(sobelx, sobely)\n",
    "\n",
    "cv.imshow('combined sobel', combined)\n",
    "cv.imshow('sobel X', sobelx)\n",
    "cv.imshow('sobel Y', sobely)\n",
    "\n",
    "\n",
    "cv.waitKey(0)"
   ]
  },
  {
   "cell_type": "markdown",
   "metadata": {},
   "source": [
    "As compared to canny edge detector, it is a more advanced algorithm which indeed uses sobel in one of its stages.\n",
    "\n",
    "Canny is a multi-stage process to calculate edgesof the image.\n",
    "\n",
    "\n"
   ]
  }
 ],
 "metadata": {
  "kernelspec": {
   "display_name": "Python 3.10.5 64-bit",
   "language": "python",
   "name": "python3"
  },
  "language_info": {
   "codemirror_mode": {
    "name": "ipython",
    "version": 3
   },
   "file_extension": ".py",
   "mimetype": "text/x-python",
   "name": "python",
   "nbconvert_exporter": "python",
   "pygments_lexer": "ipython3",
   "version": "3.10.5"
  },
  "orig_nbformat": 4,
  "vscode": {
   "interpreter": {
    "hash": "369f2c481f4da34e4445cda3fffd2e751bd1c4d706f27375911949ba6bb62e1c"
   }
  }
 },
 "nbformat": 4,
 "nbformat_minor": 2
}
